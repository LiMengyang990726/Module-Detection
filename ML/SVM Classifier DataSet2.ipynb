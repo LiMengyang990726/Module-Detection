{
 "cells": [
  {
   "cell_type": "code",
   "execution_count": 1,
   "metadata": {
    "collapsed": true
   },
   "outputs": [],
   "source": [
    "import pandas as pd\n",
    "import csv\n",
    "from sklearn.decomposition import PCA\n",
    "import matplotlib.pyplot as plt\n",
    "%matplotlib inline\n",
    "from copy import deepcopy\n",
    "import numpy as np\n",
    "from sklearn.cluster import KMeans\n",
    "import networkx as nx\n",
    "import operator\n",
    "from sklearn.svm import SVC \n",
    "from sklearn.model_selection import train_test_split \n",
    "\n",
    "data = pd.read_csv('cleanFeatures.csv')\n",
    "data.drop('Unnamed: 0',axis=1,inplace=True)"
   ]
  },
  {
   "cell_type": "code",
   "execution_count": 2,
   "metadata": {},
   "outputs": [
    {
     "data": {
      "text/plain": [
       "(5743, 39)"
      ]
     },
     "execution_count": 2,
     "metadata": {},
     "output_type": "execute_result"
    }
   ],
   "source": [
    "data.shape"
   ]
  },
  {
   "cell_type": "code",
   "execution_count": 3,
   "metadata": {},
   "outputs": [
    {
     "data": {
      "text/html": [
       "<div>\n",
       "<style scoped>\n",
       "    .dataframe tbody tr th:only-of-type {\n",
       "        vertical-align: middle;\n",
       "    }\n",
       "\n",
       "    .dataframe tbody tr th {\n",
       "        vertical-align: top;\n",
       "    }\n",
       "\n",
       "    .dataframe thead th {\n",
       "        text-align: right;\n",
       "    }\n",
       "</style>\n",
       "<table border=\"1\" class=\"dataframe\">\n",
       "  <thead>\n",
       "    <tr style=\"text-align: right;\">\n",
       "      <th></th>\n",
       "      <th>ProteinID</th>\n",
       "      <th>FrequencyA</th>\n",
       "      <th>FrequencyC</th>\n",
       "      <th>FrequencyD</th>\n",
       "      <th>FrequencyE</th>\n",
       "      <th>FrequencyF</th>\n",
       "      <th>FrequencyG</th>\n",
       "      <th>FrequencyH</th>\n",
       "      <th>FrequencyI</th>\n",
       "      <th>FrequencyK</th>\n",
       "      <th>...</th>\n",
       "      <th>HarmonicCentrality</th>\n",
       "      <th>Local Clustering Coefficient</th>\n",
       "      <th>Modularity</th>\n",
       "      <th>PageRank</th>\n",
       "      <th>SSfractionHelix</th>\n",
       "      <th>SSfractionTurn</th>\n",
       "      <th>SSfractionSheet</th>\n",
       "      <th>BP</th>\n",
       "      <th>CC</th>\n",
       "      <th>MF</th>\n",
       "    </tr>\n",
       "  </thead>\n",
       "  <tbody>\n",
       "    <tr>\n",
       "      <th>0</th>\n",
       "      <td>P00748</td>\n",
       "      <td>0.544841</td>\n",
       "      <td>2.569691</td>\n",
       "      <td>-0.913502</td>\n",
       "      <td>-0.860238</td>\n",
       "      <td>-0.624291</td>\n",
       "      <td>0.548421</td>\n",
       "      <td>1.678870</td>\n",
       "      <td>-1.586820</td>\n",
       "      <td>-1.139632</td>\n",
       "      <td>...</td>\n",
       "      <td>0.883341</td>\n",
       "      <td>0.883341</td>\n",
       "      <td>0.736007</td>\n",
       "      <td>-0.424373</td>\n",
       "      <td>-0.573348</td>\n",
       "      <td>0.227374</td>\n",
       "      <td>0.227374</td>\n",
       "      <td>-0.566718</td>\n",
       "      <td>-0.185605</td>\n",
       "      <td>-0.601109</td>\n",
       "    </tr>\n",
       "    <tr>\n",
       "      <th>1</th>\n",
       "      <td>P09622</td>\n",
       "      <td>0.865940</td>\n",
       "      <td>-0.066382</td>\n",
       "      <td>-0.457007</td>\n",
       "      <td>-0.527986</td>\n",
       "      <td>-0.248247</td>\n",
       "      <td>1.866844</td>\n",
       "      <td>0.236912</td>\n",
       "      <td>1.765667</td>\n",
       "      <td>0.455002</td>\n",
       "      <td>...</td>\n",
       "      <td>-0.709971</td>\n",
       "      <td>-0.709971</td>\n",
       "      <td>-0.238547</td>\n",
       "      <td>-0.357133</td>\n",
       "      <td>0.396657</td>\n",
       "      <td>0.037403</td>\n",
       "      <td>0.037403</td>\n",
       "      <td>-0.553693</td>\n",
       "      <td>-1.350813</td>\n",
       "      <td>-1.149322</td>\n",
       "    </tr>\n",
       "    <tr>\n",
       "      <th>2</th>\n",
       "      <td>Q9UGJ0</td>\n",
       "      <td>-0.291238</td>\n",
       "      <td>-0.901086</td>\n",
       "      <td>-0.413211</td>\n",
       "      <td>-0.636871</td>\n",
       "      <td>1.107451</td>\n",
       "      <td>-0.488293</td>\n",
       "      <td>-0.018137</td>\n",
       "      <td>1.031476</td>\n",
       "      <td>0.360262</td>\n",
       "      <td>...</td>\n",
       "      <td>0.606558</td>\n",
       "      <td>0.606558</td>\n",
       "      <td>-0.673415</td>\n",
       "      <td>-0.376694</td>\n",
       "      <td>0.276242</td>\n",
       "      <td>0.814701</td>\n",
       "      <td>0.814701</td>\n",
       "      <td>-0.147412</td>\n",
       "      <td>-0.731582</td>\n",
       "      <td>-0.943992</td>\n",
       "    </tr>\n",
       "    <tr>\n",
       "      <th>3</th>\n",
       "      <td>Q9Y6Q6</td>\n",
       "      <td>0.346813</td>\n",
       "      <td>2.375019</td>\n",
       "      <td>-0.121250</td>\n",
       "      <td>-0.012200</td>\n",
       "      <td>-0.627223</td>\n",
       "      <td>1.105463</td>\n",
       "      <td>-0.468733</td>\n",
       "      <td>-1.497474</td>\n",
       "      <td>-0.786536</td>\n",
       "      <td>...</td>\n",
       "      <td>-0.346774</td>\n",
       "      <td>-0.346774</td>\n",
       "      <td>0.466137</td>\n",
       "      <td>-0.520649</td>\n",
       "      <td>-1.298741</td>\n",
       "      <td>1.110046</td>\n",
       "      <td>1.110046</td>\n",
       "      <td>-0.677024</td>\n",
       "      <td>0.689543</td>\n",
       "      <td>0.247697</td>\n",
       "    </tr>\n",
       "    <tr>\n",
       "      <th>4</th>\n",
       "      <td>Q02962</td>\n",
       "      <td>0.076916</td>\n",
       "      <td>-0.650226</td>\n",
       "      <td>-0.019627</td>\n",
       "      <td>-1.192335</td>\n",
       "      <td>-0.932011</td>\n",
       "      <td>1.265698</td>\n",
       "      <td>0.770537</td>\n",
       "      <td>-0.127167</td>\n",
       "      <td>-1.042019</td>\n",
       "      <td>...</td>\n",
       "      <td>-0.393095</td>\n",
       "      <td>-0.393095</td>\n",
       "      <td>0.436175</td>\n",
       "      <td>1.359952</td>\n",
       "      <td>-0.436386</td>\n",
       "      <td>1.734393</td>\n",
       "      <td>1.734393</td>\n",
       "      <td>-1.013390</td>\n",
       "      <td>-0.532671</td>\n",
       "      <td>0.715993</td>\n",
       "    </tr>\n",
       "  </tbody>\n",
       "</table>\n",
       "<p>5 rows × 39 columns</p>\n",
       "</div>"
      ],
      "text/plain": [
       "  ProteinID  FrequencyA  FrequencyC  FrequencyD  FrequencyE  FrequencyF  \\\n",
       "0    P00748    0.544841    2.569691   -0.913502   -0.860238   -0.624291   \n",
       "1    P09622    0.865940   -0.066382   -0.457007   -0.527986   -0.248247   \n",
       "2    Q9UGJ0   -0.291238   -0.901086   -0.413211   -0.636871    1.107451   \n",
       "3    Q9Y6Q6    0.346813    2.375019   -0.121250   -0.012200   -0.627223   \n",
       "4    Q02962    0.076916   -0.650226   -0.019627   -1.192335   -0.932011   \n",
       "\n",
       "   FrequencyG  FrequencyH  FrequencyI  FrequencyK    ...     \\\n",
       "0    0.548421    1.678870   -1.586820   -1.139632    ...      \n",
       "1    1.866844    0.236912    1.765667    0.455002    ...      \n",
       "2   -0.488293   -0.018137    1.031476    0.360262    ...      \n",
       "3    1.105463   -0.468733   -1.497474   -0.786536    ...      \n",
       "4    1.265698    0.770537   -0.127167   -1.042019    ...      \n",
       "\n",
       "   HarmonicCentrality  Local Clustering Coefficient  Modularity  PageRank  \\\n",
       "0            0.883341                      0.883341    0.736007 -0.424373   \n",
       "1           -0.709971                     -0.709971   -0.238547 -0.357133   \n",
       "2            0.606558                      0.606558   -0.673415 -0.376694   \n",
       "3           -0.346774                     -0.346774    0.466137 -0.520649   \n",
       "4           -0.393095                     -0.393095    0.436175  1.359952   \n",
       "\n",
       "   SSfractionHelix  SSfractionTurn  SSfractionSheet        BP        CC  \\\n",
       "0        -0.573348        0.227374         0.227374 -0.566718 -0.185605   \n",
       "1         0.396657        0.037403         0.037403 -0.553693 -1.350813   \n",
       "2         0.276242        0.814701         0.814701 -0.147412 -0.731582   \n",
       "3        -1.298741        1.110046         1.110046 -0.677024  0.689543   \n",
       "4        -0.436386        1.734393         1.734393 -1.013390 -0.532671   \n",
       "\n",
       "         MF  \n",
       "0 -0.601109  \n",
       "1 -1.149322  \n",
       "2 -0.943992  \n",
       "3  0.247697  \n",
       "4  0.715993  \n",
       "\n",
       "[5 rows x 39 columns]"
      ]
     },
     "execution_count": 3,
     "metadata": {},
     "output_type": "execute_result"
    }
   ],
   "source": [
    "data.head()"
   ]
  },
  {
   "cell_type": "code",
   "execution_count": 4,
   "metadata": {},
   "outputs": [
    {
     "data": {
      "text/plain": [
       "Index(['ProteinID', 'FrequencyA', 'FrequencyC', 'FrequencyD', 'FrequencyE',\n",
       "       'FrequencyF', 'FrequencyG', 'FrequencyH', 'FrequencyI', 'FrequencyK',\n",
       "       'FrequencyL', 'FrequencyM', 'FrequencyN', 'FrequencyP', 'FrequencyQ',\n",
       "       'FrequencyR', 'FrequencyS', 'FrequencyT', 'FrequencyV', 'FrequencyW',\n",
       "       'FrequencyY', 'Aromaticity', 'Isoelectric', 'Target',\n",
       "       'Average Shortest Path to all Disease genes', 'BetweennessCentrality',\n",
       "       'ClosenessCentrality', 'DegreeCentrality', 'EigenvectorCentrality',\n",
       "       'HarmonicCentrality', 'Local Clustering Coefficient', 'Modularity',\n",
       "       'PageRank', 'SSfractionHelix', 'SSfractionTurn', 'SSfractionSheet',\n",
       "       'BP', 'CC', 'MF'],\n",
       "      dtype='object')"
      ]
     },
     "execution_count": 4,
     "metadata": {},
     "output_type": "execute_result"
    }
   ],
   "source": [
    "data.columns"
   ]
  },
  {
   "cell_type": "code",
   "execution_count": 3,
   "metadata": {},
   "outputs": [
    {
     "ename": "TypeError",
     "evalue": "fit() missing 1 required positional argument: 'y'",
     "output_type": "error",
     "traceback": [
      "\u001b[0;31m---------------------------------------------------------------------------\u001b[0m",
      "\u001b[0;31mTypeError\u001b[0m                                 Traceback (most recent call last)",
      "\u001b[0;32m<ipython-input-3-80f837d9ae54>\u001b[0m in \u001b[0;36m<module>\u001b[0;34m()\u001b[0m\n\u001b[1;32m      1\u001b[0m \u001b[0msvclassifier\u001b[0m \u001b[0;34m=\u001b[0m \u001b[0mSVC\u001b[0m\u001b[0;34m(\u001b[0m\u001b[0mkernel\u001b[0m\u001b[0;34m=\u001b[0m\u001b[0;34m'linear'\u001b[0m\u001b[0;34m)\u001b[0m\u001b[0;34m\u001b[0m\u001b[0;34m\u001b[0m\u001b[0m\n\u001b[0;32m----> 2\u001b[0;31m \u001b[0msvclassifier\u001b[0m\u001b[0;34m.\u001b[0m\u001b[0mfit\u001b[0m\u001b[0;34m(\u001b[0m\u001b[0mtrain_df\u001b[0m\u001b[0;34m)\u001b[0m\u001b[0;34m\u001b[0m\u001b[0;34m\u001b[0m\u001b[0m\n\u001b[0m",
      "\u001b[0;31mTypeError\u001b[0m: fit() missing 1 required positional argument: 'y'"
     ]
    }
   ],
   "source": [
    "train_df, val_df = train_test_split(data, test_size=0.1, random_state=2018)\n",
    "svclassifier = SVC(kernel='linear')  \n",
    "svclassifier.fit(train_df)"
   ]
  },
  {
   "cell_type": "code",
   "execution_count": 12,
   "metadata": {
    "collapsed": true
   },
   "outputs": [],
   "source": [
    "x_data = data.drop(['Target','ProteinID'],axis=1)\n",
    "y_data = data['Target']"
   ]
  },
  {
   "cell_type": "code",
   "execution_count": 16,
   "metadata": {},
   "outputs": [
    {
     "name": "stdout",
     "output_type": "stream",
     "text": [
      "[1 1 1 ... 0 0 0]\n",
      "continuous\n",
      "binary\n",
      "binary\n"
     ]
    }
   ],
   "source": [
    "# Fix the error of Unknown datatype 'Continuous'\n",
    "from sklearn import preprocessing\n",
    "from sklearn import utils\n",
    "\n",
    "lab_enc = preprocessing.LabelEncoder()\n",
    "y_encoded = lab_enc.fit_transform(y_data)\n",
    "print(y_encoded)\n",
    "print(utils.multiclass.type_of_target(y_data))\n",
    "print(utils.multiclass.type_of_target(y_data.astype('int')))\n",
    "print(utils.multiclass.type_of_target(y_encoded))"
   ]
  },
  {
   "cell_type": "code",
   "execution_count": null,
   "metadata": {},
   "outputs": [],
   "source": [
    "from sklearn.datasets import load_iris\n",
    "from matplotlib import pyplot as plt\n",
    "from sklearn.svm import SVC\n",
    "from sklearn.model_selection import GridSearchCV, cross_val_score, KFold\n",
    "import numpy as np\n",
    "\n",
    "NUM_TRIALS = 30\n",
    "\n",
    "svm = SVC(kernel=\"rbf\")\n",
    "\n",
    "p_grid = {\"C\": [1, 10, 100],\n",
    "          \"gamma\": [.01, .1]}\n",
    "\n",
    "non_nested_scores = np.zeros(NUM_TRIALS)\n",
    "nested_scores = np.zeros(NUM_TRIALS)\n",
    "\n",
    "# Loop for each trial\n",
    "for i in range(NUM_TRIALS):\n",
    "\n",
    "    # Choose cross-validation techniques for the inner and outer loops,\n",
    "    # independently of the dataset.\n",
    "    # E.g \"GroupKFold\", \"LeaveOneOut\", \"LeaveOneGroupOut\", etc.\n",
    "    inner_cv = KFold(n_splits=4, shuffle=True, random_state=i)\n",
    "    outer_cv = KFold(n_splits=4, shuffle=True, random_state=i)\n",
    "\n",
    "    # Non_nested parameter search and scoring\n",
    "    clf = GridSearchCV(estimator=svm, param_grid=p_grid, cv=inner_cv)\n",
    "    clf.fit(x_data, y_encoded)\n",
    "    non_nested_scores[i] = clf.best_score_\n",
    "\n",
    "    # Nested CV with parameter optimization\n",
    "    nested_score = cross_val_score(clf, X=x_data, y=y_encoded, cv=outer_cv)\n",
    "    nested_scores[i] = nested_score.mean()\n",
    "\n",
    "score_difference = non_nested_scores - nested_scores\n",
    "\n",
    "print(\"Average difference of {0:6f} with std. dev. of {1:6f}.\"\n",
    "      .format(score_difference.mean(), score_difference.std()))\n",
    "\n",
    "plt.figure()\n",
    "plt.subplot(211)\n",
    "non_nested_scores_line, = plt.plot(non_nested_scores, color='r')\n",
    "nested_line, = plt.plot(nested_scores, color='b')\n",
    "plt.ylabel(\"score\", fontsize=\"14\")\n",
    "plt.legend([non_nested_scores_line, nested_line],\n",
    "           [\"Non-Nested CV\", \"Nested CV\"],\n",
    "           bbox_to_anchor=(0, .4, .5, 0))\n",
    "plt.title(\"Non-Nested and Nested Cross Validation on Iris Dataset\",\n",
    "          x=.5, y=1.1, fontsize=\"15\")"
   ]
  },
  {
   "cell_type": "code",
   "execution_count": null,
   "metadata": {
    "collapsed": true
   },
   "outputs": [],
   "source": []
  }
 ],
 "metadata": {
  "kernelspec": {
   "display_name": "Python 3",
   "language": "python",
   "name": "python3"
  },
  "language_info": {
   "codemirror_mode": {
    "name": "ipython",
    "version": 3
   },
   "file_extension": ".py",
   "mimetype": "text/x-python",
   "name": "python",
   "nbconvert_exporter": "python",
   "pygments_lexer": "ipython3",
   "version": "3.6.8"
  }
 },
 "nbformat": 4,
 "nbformat_minor": 2
}
