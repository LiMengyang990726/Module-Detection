{
 "cells": [
  {
   "cell_type": "code",
   "execution_count": 1,
   "metadata": {
    "collapsed": true
   },
   "outputs": [],
   "source": [
    "import networkx as nx\n",
    "import matplotlib\n",
    "matplotlib.use('Agg')\n",
    "import matplotlib.pyplot as plt\n",
    "import collections\n",
    "import xlsxwriter\n",
    "import subprocess as sp \n",
    "\n",
    "def readInput():\n",
    "    G = nx.read_edgelist(\"./gene-network.tsv\")\n",
    "    Gc = max(nx.connected_component_subgraphs(G), key=len)\n",
    "    disease_file  = open(\"gene-disease0.TSV\", 'r')\n",
    "    diseases = []\n",
    "    disease_dic = {}\n",
    "    componentDic = {}\n",
    "    for line in disease_file:\n",
    "        li = line.strip()\n",
    "        if not li.startswith(\"#\"):\n",
    "            li2 = li.split(' ',1)\n",
    "            disease_key = li2[0]\n",
    "            print (\"the key is: \"+disease_key)\n",
    "            disease_list = [l for l in (li2[1]).split('/')]\n",
    "            length = len(disease_list)\n",
    "            for i in range(length):\n",
    "                diseases.append(disease_list[i])\n",
    "            print (disease_list)\n",
    "            disease_dic.update({disease_key: disease_list})\n",
    "    return Gc, disease_dic,diseases\n",
    "\n",
    "Gc,disease_dic,diseases=readInput()\n",
    "\n",
    "for i in range(len(diseases)):\n",
    "    print(str(i)+\" \"+diseases[i])\n",
    "    if(Gc.has_node(str(diseases[i]))):\n",
    "        print(\"Added\")\n",
    "    else:\n",
    "        diseases.pop(i)"
   ]
  },
  {
   "cell_type": "code",
   "execution_count": null,
   "metadata": {
    "collapsed": true
   },
   "outputs": [],
   "source": []
  }
 ],
 "metadata": {
  "kernelspec": {
   "display_name": "Python 3",
   "language": "python",
   "name": "python3"
  },
  "language_info": {
   "codemirror_mode": {
    "name": "ipython",
    "version": 3
   },
   "file_extension": ".py",
   "mimetype": "text/x-python",
   "name": "python",
   "nbconvert_exporter": "python",
   "pygments_lexer": "ipython3",
   "version": "3.6.3"
  }
 },
 "nbformat": 4,
 "nbformat_minor": 2
}
